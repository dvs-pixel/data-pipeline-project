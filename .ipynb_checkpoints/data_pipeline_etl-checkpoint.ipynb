{
 "cells": [
  {
   "cell_type": "markdown",
   "id": "a26e52b9",
   "metadata": {},
   "source": [
    "# 🧪 Data Pipeline Development using Pandas and Scikit-learn\n",
    "\n",
    "## 📌 Objective\n",
    "To automate the data preprocessing workflow using an ETL pipeline that:\n",
    "- Loads raw customer churn data\n",
    "- Cleans and preprocesses it\n",
    "- Transforms it using encoding and scaling\n",
    "- Splits it into train/test sets\n",
    "- Saves the processed data\n",
    "\n",
    "Dataset used: Telco Customer Churn (CSV)\n"
   ]
  },
  {
   "cell_type": "code",
   "execution_count": null,
   "id": "2d1bdd0c",
   "metadata": {},
   "outputs": [],
   "source": [
    "import pandas as pd\n",
    "import numpy as np\n",
    "from sklearn.model_selection import train_test_split\n",
    "from sklearn.preprocessing import StandardScaler, OneHotEncoder\n",
    "from sklearn.compose import ColumnTransformer\n",
    "from sklearn.pipeline import Pipeline\n",
    "import os\n"
   ]
  },
  {
   "cell_type": "code",
   "execution_count": null,
   "id": "1dfacab5",
   "metadata": {},
   "outputs": [],
   "source": [
    "import matplotlib.pyplot as plt\n",
    "import seaborn as sns\n",
    "\n",
    "# Enable inline plots\n",
    "%matplotlib inline\n"
   ]
  },
  {
   "cell_type": "code",
   "execution_count": null,
   "id": "f0034b1d",
   "metadata": {},
   "outputs": [],
   "source": [
    "data = pd.read_csv(\"data/projectdata.csv\")\n",
    "data.head()\n"
   ]
  },
  {
   "cell_type": "markdown",
   "id": "200e3bab",
   "metadata": {},
   "source": [
    "## 📊 Exploratory Data Analysis (EDA) and Visualizations\n"
   ]
  },
  {
   "cell_type": "code",
   "execution_count": null,
   "id": "94d2288a",
   "metadata": {},
   "outputs": [],
   "source": [
    "sns.countplot(data=data, x=\"Churn\", palette=\"Set2\")\n",
    "plt.title(\"Churn Distribution\")\n",
    "plt.xlabel(\"Churn\")\n",
    "plt.ylabel(\"Count\")\n",
    "plt.show()\n"
   ]
  },
  {
   "cell_type": "code",
   "execution_count": null,
   "id": "32af2454",
   "metadata": {},
   "outputs": [],
   "source": [
    "sns.heatmap(data.isnull(), cbar=False, cmap=\"viridis\")\n",
    "plt.title(\"Missing Data Heatmap\")\n",
    "plt.show()\n"
   ]
  },
  {
   "cell_type": "code",
   "execution_count": null,
   "id": "96e72d24",
   "metadata": {},
   "outputs": [],
   "source": [
    "numerical_cols = data.select_dtypes(include=[\"int64\", \"float64\"]).columns\n",
    "\n",
    "data[numerical_cols].hist(figsize=(12, 10), bins=20, color=\"skyblue\")\n",
    "plt.suptitle(\"Distribution of Numerical Features\")\n",
    "plt.tight_layout()\n",
    "plt.show()\n"
   ]
  },
  {
   "cell_type": "code",
   "execution_count": null,
   "id": "8b8e245e",
   "metadata": {},
   "outputs": [],
   "source": [
    "plt.figure(figsize=(12, 8))\n",
    "sns.heatmap(data[numerical_cols].corr(), annot=True, cmap=\"coolwarm\", fmt=\".2f\")\n",
    "plt.title(\"Correlation Heatmap\")\n",
    "plt.show()\n"
   ]
  },
  {
   "cell_type": "code",
   "execution_count": null,
   "id": "ab1b4376",
   "metadata": {},
   "outputs": [],
   "source": [
    "selected_cols = [\"tenure\", \"MonthlyCharges\", \"TotalCharges\", \"Churn\"]\n",
    "sns.pairplot(data[selected_cols], hue=\"Churn\", palette=\"husl\")\n",
    "plt.suptitle(\"Pair Plot of Key Features\", y=1.02)\n",
    "plt.show()\n"
   ]
  },
  {
   "cell_type": "code",
   "execution_count": null,
   "id": "faca0741",
   "metadata": {},
   "outputs": [],
   "source": [
    "# Drop duplicates\n",
    "data.drop_duplicates(inplace=True)\n",
    "\n",
    "# Drop rows with missing values\n",
    "data.dropna(inplace=True)\n",
    "\n",
    "# Confirm cleanup\n",
    "print(f\"Dataset shape after cleaning: {data.shape}\")\n"
   ]
  },
  {
   "cell_type": "code",
   "execution_count": null,
   "id": "913a1595",
   "metadata": {},
   "outputs": [],
   "source": [
    "X = data.drop(\"Churn\", axis=1)\n",
    "y = data[\"Churn\"]\n"
   ]
  },
  {
   "cell_type": "code",
   "execution_count": null,
   "id": "06155cf1",
   "metadata": {},
   "outputs": [],
   "source": [
    "# You can manually define them if auto detection doesn't work well\n",
    "numerical_cols = X.select_dtypes(include=[\"int64\", \"float64\"]).columns.tolist()\n",
    "categorical_cols = X.select_dtypes(include=[\"object\", \"bool\"]).columns.tolist()\n",
    "\n",
    "print(\"Numerical:\", numerical_cols)\n",
    "print(\"Categorical:\", categorical_cols)\n"
   ]
  },
  {
   "cell_type": "code",
   "execution_count": null,
   "id": "66b0cbe7",
   "metadata": {},
   "outputs": [],
   "source": [
    "numerical_pipeline = Pipeline([\n",
    "    (\"scaler\", StandardScaler())\n",
    "])\n",
    "\n",
    "categorical_pipeline = Pipeline([\n",
    "    (\"encoder\", OneHotEncoder(handle_unknown='ignore'))\n",
    "])\n",
    "\n",
    "preprocessor = ColumnTransformer([\n",
    "    (\"num\", numerical_pipeline, numerical_cols),\n",
    "    (\"cat\", categorical_pipeline, categorical_cols)\n",
    "])\n"
   ]
  },
  {
   "cell_type": "code",
   "execution_count": null,
   "id": "f8e03c10",
   "metadata": {},
   "outputs": [],
   "source": [
    "X_processed = preprocessor.fit_transform(X)\n",
    "print(f\"Processed feature shape: {X_processed.shape}\")\n"
   ]
  },
  {
   "cell_type": "code",
   "execution_count": null,
   "id": "5b90dd49",
   "metadata": {},
   "outputs": [],
   "source": [
    "X_train, X_test, y_train, y_test = train_test_split(\n",
    "    X_processed, y, test_size=0.2, random_state=42)\n",
    "\n",
    "print(f\"Train shape: {X_train.shape}, Test shape: {X_test.shape}\")\n"
   ]
  },
  {
   "cell_type": "code",
   "execution_count": null,
   "id": "4cca3992",
   "metadata": {},
   "outputs": [],
   "source": [
    "output_folder = \"processed_data\"\n",
    "os.makedirs(output_folder, exist_ok=True)\n",
    "\n",
    "pd.DataFrame(X_train).to_csv(f\"{output_folder}/X_train.csv\", index=False)\n",
    "pd.DataFrame(X_test).to_csv(f\"{output_folder}/X_test.csv\", index=False)\n",
    "y_train.to_csv(f\"{output_folder}/y_train.csv\", index=False)\n",
    "y_test.to_csv(f\"{output_folder}/y_test.csv\", index=False)\n",
    "\n",
    "print(\"✅ Processed data saved to 'processed_data/' folder.\")\n"
   ]
  },
  {
   "cell_type": "markdown",
   "id": "5615e60b",
   "metadata": {},
   "source": [
    "## ✅ Conclusion\n",
    "\n",
    "- The dataset was cleaned, encoded, and scaled.\n",
    "- Final data was split into training and testing sets.\n",
    "- Processed files were saved in the `processed_data/` folder.\n",
    "- Ready for model training or further analysis!\n"
   ]
  }
 ],
 "metadata": {
  "language_info": {
   "name": "python"
  }
 },
 "nbformat": 4,
 "nbformat_minor": 5
}
